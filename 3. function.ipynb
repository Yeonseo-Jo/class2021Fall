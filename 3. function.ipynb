{
  "nbformat": 4,
  "nbformat_minor": 0,
  "metadata": {
    "colab": {
      "name": "function.ipynb",
      "provenance": [],
      "include_colab_link": true
    },
    "kernelspec": {
      "name": "python3",
      "display_name": "Python 3"
    }
  },
  "cells": [
    {
      "cell_type": "markdown",
      "metadata": {
        "id": "view-in-github",
        "colab_type": "text"
      },
      "source": [
        "<a href=\"https://colab.research.google.com/github/Yeonseo-Jo/class2021Fall/blob/main/3.%20function.ipynb\" target=\"_parent\"><img src=\"https://colab.research.google.com/assets/colab-badge.svg\" alt=\"Open In Colab\"/></a>"
      ]
    },
    {
      "cell_type": "code",
      "metadata": {
        "id": "hpc_mhgAye2S"
      },
      "source": [
        "#반복 되는 것, 많이 쓰는 것은 function으로 만들면 편리함.\n",
        "#ex. len()같이 기본적인 function들은 파이썬을 깔면 이미 만들어져 쓸 수 있음\n",
        "#사용자 지정 함수 = def (어디 등록된 것은 아니지만 de로 만들어서 쓰면 됨)\n",
        "def add(a,b):\n",
        "  return a+b\n",
        "\n",
        "def subtract(a,b):\n",
        "  return a-b\n",
        "\n",
        "def multiply(a,b):\n",
        "  return a*b\n",
        "\n",
        "def divide(a,b):\n",
        "  return a/b"
      ],
      "execution_count": null,
      "outputs": []
    },
    {
      "cell_type": "code",
      "source": [
        "def myfirstfunc(a,b,c):          # ex. def testfunc():의 형태처럼 input이 없는 함수도 있음\n",
        "  d=a+b                          # 즉, 함수는 입력과 출력을 받을 수는 있지만 반드시 입력과 출력을 명시할 필요는 없다는 말을 맞는 명제.\n",
        "  e=d*4\n",
        "  f=e/c\n",
        "  return f           #def로 함수만 만들면 output cell에는 변화가 없음. 그 이유는 그냥 메모리에 만든 함수를 저장한것이기 때문. 값을 입력해야 출력 값이 나옴"
      ],
      "metadata": {
        "id": "T7QVfcBXYgaP"
      },
      "execution_count": 1,
      "outputs": []
    },
    {
      "cell_type": "code",
      "source": [
        "k=myfirstfunc(1,0,2)      #한번 function을 만들면, 입출력의 관계만 입력하면 그 출력 결과를 얻을 수 있으므로 편리 \n",
        "print(k)"
      ],
      "metadata": {
        "id": "2alogShzY3YL",
        "outputId": "b4a3fc8a-c2b6-4272-bad3-32a966319a37",
        "colab": {
          "base_uri": "https://localhost:8080/"
        }
      },
      "execution_count": 3,
      "outputs": [
        {
          "output_type": "stream",
          "name": "stdout",
          "text": [
            "2.0\n"
          ]
        }
      ]
    },
    {
      "cell_type": "code",
      "metadata": {
        "colab": {
          "base_uri": "https://localhost:8080/"
        },
        "id": "8Y4oa05Eykn4",
        "outputId": "7e186590-61dc-49a9-e22f-0bcb617fd3b7"
      },
      "source": [
        "c = add(1,2); print(c)\n",
        "c = subtract(1,2); print(c)\n",
        "c = multiply(1,2); print(c)\n",
        "c = divide(1,2); print(c)"
      ],
      "execution_count": null,
      "outputs": [
        {
          "output_type": "stream",
          "text": [
            "3\n",
            "-1\n",
            "2\n",
            "0.5\n"
          ],
          "name": "stdout"
        }
      ]
    },
    {
      "cell_type": "code",
      "source": [
        ""
      ],
      "metadata": {
        "id": "fXXKdcyjY1eY"
      },
      "execution_count": null,
      "outputs": []
    }
  ]
}