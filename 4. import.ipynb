{
  "nbformat": 4,
  "nbformat_minor": 0,
  "metadata": {
    "colab": {
      "name": "import.ipynb",
      "provenance": [],
      "include_colab_link": true
    },
    "kernelspec": {
      "name": "python3",
      "display_name": "Python 3"
    },
    "language_info": {
      "name": "python"
    }
  },
  "cells": [
    {
      "cell_type": "markdown",
      "metadata": {
        "id": "view-in-github",
        "colab_type": "text"
      },
      "source": [
        "<a href=\"https://colab.research.google.com/github/Yeonseo-Jo/class2021Fall/blob/main/4.%20import.ipynb\" target=\"_parent\"><img src=\"https://colab.research.google.com/assets/colab-badge.svg\" alt=\"Open In Colab\"/></a>"
      ]
    },
    {
      "cell_type": "code",
      "metadata": {
        "id": "JXicrkYOzPRo",
        "outputId": "c83c2b9d-97b4-42ac-eb6f-e79eb2eb2aec",
        "colab": {
          "base_uri": "https://localhost:8080/"
        }
      },
      "source": [
        "#전문적인 함수들을 기본적으로 설치되어있지 않아 필요 애따라 불러와야 함\n",
        "#다른 사람들이 이미 만들어 놓은 유용한 패키지, 즉 라이브러리를 이용하는 방법 = import\n",
        "#import A as B: A를 B라는 말로 불러오겠다\n",
        "#from ~ import\n",
        "\n",
        "import numpy as np\n",
        "n = np.random.randn(100) #numpy에 있는 random라는 폴더 중 randn이라는 기능을 불러 오겠다\n",
        "#100개(논항만큼의)의 random number를 만들어줌\n",
        "print(n)"
      ],
      "execution_count": 8,
      "outputs": [
        {
          "output_type": "stream",
          "name": "stdout",
          "text": [
            "[ 1.38072487 -0.1838993   0.20504923 -0.73878751  2.06073606  0.82268846\n",
            "  2.67473246  1.94180696  0.2390137  -0.2786463  -0.69982004 -0.96271401\n",
            "  0.83300866 -1.13077617  1.48847396  0.8695375  -1.16427512  0.10068752\n",
            "  0.48687812 -1.19563688  0.12150788  0.6586147   0.69006693 -0.29734927\n",
            "  0.29237384 -0.5377571  -1.01734723 -0.36450887  0.48060409 -1.17716317\n",
            " -0.42002824 -2.1054522  -0.00868563  0.20136649  0.71571765  1.59636521\n",
            " -0.02255548 -0.51644807 -1.71207153 -0.86146273 -1.54747109 -0.94530117\n",
            "  0.53979404  0.68136499 -1.22642637  1.94077282  0.81487243 -0.54732377\n",
            "  0.59099658  0.75728683 -0.66275347  1.00795737 -1.41001664 -0.1611309\n",
            " -1.45684041  1.10977963  1.52682817 -0.46066365 -0.04431514  0.78803398\n",
            " -0.3558502   1.88427089  0.11909217  1.53133761  0.00447027  0.41635333\n",
            "  2.72258966  0.57884952 -0.60294648  0.47020216  0.16560671 -1.3683751\n",
            " -0.73555591  0.95726052  1.31352434 -2.20124126 -1.81257817 -0.29366163\n",
            "  0.51789686 -0.2123205  -0.09870272 -0.6982095  -0.6656819   0.53601882\n",
            "  0.65027925  0.2382246  -0.19426012 -1.19969161 -1.05243977  1.50071601\n",
            "  0.82023989  0.23807402  0.58423932 -0.52780266 -1.98598214 -0.17389701\n",
            " -0.03226259  0.51070858  1.52569527 -0.65543299]\n"
          ]
        }
      ]
    },
    {
      "cell_type": "code",
      "metadata": {
        "id": "oKT4vn4MwyLA",
        "colab": {
          "base_uri": "https://localhost:8080/",
          "height": 882
        },
        "outputId": "f8dd8fcc-24ff-4faa-b08b-5fcd0e59dd1f"
      },
      "source": [
        "#import 방법 첫번째 : import / import한 후 matplotlib.pyplot.hist()로 불러오기\n",
        "\n",
        "import matplotlib          #그림 그리는, plotting(ex. 차트 그리기) 할 수 있는 기능이 있는 라이브러리\n",
        "matplotlib.pyplot.hist(n, bins = 100)\n",
        "#hist()는 히스토그램(도수분포표의 그래프)을 그리는 함\n",
        "#데이터가 많으면 많을수록 그래프가 정규분포에 가까워짐\n",
        "#bins의 개수가 많으면 많을수록 그래프가 정규분포에 가깝게 나옴\n",
        "#bins는 막대 영역을 얼마나 많이 채우는지 결정해주는 변수 "
      ],
      "execution_count": 7,
      "outputs": [
        {
          "output_type": "execute_result",
          "data": {
            "text/plain": [
              "(array([1., 0., 0., 3., 0., 0., 1., 1., 0., 0., 1., 1., 0., 1., 1., 0., 1.,\n",
              "        0., 1., 2., 1., 0., 0., 1., 1., 0., 2., 0., 1., 0., 0., 0., 4., 2.,\n",
              "        4., 1., 1., 2., 1., 2., 3., 1., 4., 2., 1., 1., 2., 3., 2., 1., 2.,\n",
              "        4., 2., 2., 0., 1., 2., 2., 0., 1., 1., 1., 1., 1., 0., 1., 0., 0.,\n",
              "        0., 0., 2., 1., 3., 1., 1., 0., 2., 2., 2., 0., 0., 2., 0., 1., 1.,\n",
              "        0., 0., 0., 0., 0., 0., 0., 0., 1., 0., 1., 1., 0., 0., 1.]),\n",
              " array([-2.30527628e+00, -2.25822265e+00, -2.21116901e+00, -2.16411538e+00,\n",
              "        -2.11706175e+00, -2.07000811e+00, -2.02295448e+00, -1.97590084e+00,\n",
              "        -1.92884721e+00, -1.88179358e+00, -1.83473994e+00, -1.78768631e+00,\n",
              "        -1.74063267e+00, -1.69357904e+00, -1.64652541e+00, -1.59947177e+00,\n",
              "        -1.55241814e+00, -1.50536450e+00, -1.45831087e+00, -1.41125724e+00,\n",
              "        -1.36420360e+00, -1.31714997e+00, -1.27009633e+00, -1.22304270e+00,\n",
              "        -1.17598907e+00, -1.12893543e+00, -1.08188180e+00, -1.03482816e+00,\n",
              "        -9.87774530e-01, -9.40720896e-01, -8.93667262e-01, -8.46613628e-01,\n",
              "        -7.99559994e-01, -7.52506360e-01, -7.05452726e-01, -6.58399092e-01,\n",
              "        -6.11345458e-01, -5.64291824e-01, -5.17238190e-01, -4.70184556e-01,\n",
              "        -4.23130922e-01, -3.76077288e-01, -3.29023654e-01, -2.81970020e-01,\n",
              "        -2.34916386e-01, -1.87862752e-01, -1.40809118e-01, -9.37554837e-02,\n",
              "        -4.67018497e-02,  3.51784344e-04,  4.74054184e-02,  9.44590524e-02,\n",
              "         1.41512686e-01,  1.88566320e-01,  2.35619954e-01,  2.82673589e-01,\n",
              "         3.29727223e-01,  3.76780857e-01,  4.23834491e-01,  4.70888125e-01,\n",
              "         5.17941759e-01,  5.64995393e-01,  6.12049027e-01,  6.59102661e-01,\n",
              "         7.06156295e-01,  7.53209929e-01,  8.00263563e-01,  8.47317197e-01,\n",
              "         8.94370831e-01,  9.41424465e-01,  9.88478099e-01,  1.03553173e+00,\n",
              "         1.08258537e+00,  1.12963900e+00,  1.17669263e+00,  1.22374627e+00,\n",
              "         1.27079990e+00,  1.31785354e+00,  1.36490717e+00,  1.41196081e+00,\n",
              "         1.45901444e+00,  1.50606807e+00,  1.55312171e+00,  1.60017534e+00,\n",
              "         1.64722898e+00,  1.69428261e+00,  1.74133624e+00,  1.78838988e+00,\n",
              "         1.83544351e+00,  1.88249715e+00,  1.92955078e+00,  1.97660441e+00,\n",
              "         2.02365805e+00,  2.07071168e+00,  2.11776532e+00,  2.16481895e+00,\n",
              "         2.21187258e+00,  2.25892622e+00,  2.30597985e+00,  2.35303349e+00,\n",
              "         2.40008712e+00]),\n",
              " <a list of 100 Patch objects>)"
            ]
          },
          "metadata": {},
          "execution_count": 7
        },
        {
          "output_type": "display_data",
          "data": {
            "image/png": "[encoded data removed]",
            "text/plain": [
              "<Figure size 432x288 with 1 Axes>"
            ]
          },
          "metadata": {
            "needs_background": "light"
          }
        }
      ]
    },
    {
      "cell_type": "code",
      "metadata": {
        "colab": {
          "base_uri": "https://localhost:8080/",
          "height": 359
        },
        "id": "zQJ4LnbA-Hvz",
        "outputId": "ac2a712f-a492-42c2-aa58-955609c7530e"
      },
      "source": [
        "#import 두번째 방법: matplotlib.pyplot한 후 matplotlib.pyplot.his()로 불러오기\n",
        "#이 경우 pyplot()만 쓰면 오류가 발생. 마찬가지로 matplotlib.pyplot.hist()로 불러와야함.\n",
        "\n",
        "import matplotlib.pyplot\n",
        "matplotlib.pyplot.hist(n)"
      ],
      "execution_count": 6,
      "outputs": [
        {
          "output_type": "execute_result",
          "data": {
            "text/plain": [
              "(array([ 6.,  8.,  6., 17., 20., 16.,  5., 14.,  4.,  4.]),\n",
              " array([-2.30527628, -1.83473994, -1.3642036 , -0.89366726, -0.42313092,\n",
              "         0.04740542,  0.51794176,  0.9884781 ,  1.45901444,  1.92955078,\n",
              "         2.40008712]),\n",
              " <a list of 10 Patch objects>)"
            ]
          },
          "metadata": {},
          "execution_count": 6
        },
        {
          "output_type": "display_data",
          "data": {
            "image/png": "[encoded data removed]",
            "text/plain": [
              "<Figure size 432x288 with 1 Axes>"
            ]
          },
          "metadata": {
            "needs_background": "light"
          }
        }
      ]
    },
    {
      "cell_type": "code",
      "metadata": {
        "id": "AWU6awi53c07",
        "outputId": "9b49fb47-6bac-4887-8815-e5ed130f6c56",
        "colab": {
          "base_uri": "https://localhost:8080/",
          "height": 350
        }
      },
      "source": [
        "새# 세번째 방법 : import ~ as ~ 로 불러오는 경우: 모듈명을 짧게 줄여서 불러 올 수 있ㄷ는 장점이 있음\n",
        "\n",
        "import matplotlib.pyplot as plt\n",
        "plt.hist(n)"
      ],
      "execution_count": null,
      "outputs": [
        {
          "output_type": "execute_result",
          "data": {
            "text/plain": [
              "(array([ 4.,  4.,  4.,  8., 19., 21., 16., 13.,  6.,  5.]),\n",
              " array([-2.54804234, -2.0585933 , -1.56914426, -1.07969522, -0.59024618,\n",
              "        -0.10079714,  0.3886519 ,  0.87810094,  1.36754998,  1.85699902,\n",
              "         2.34644806]),\n",
              " <a list of 10 Patch objects>)"
            ]
          },
          "metadata": {},
          "execution_count": 5
        },
        {
          "output_type": "display_data",
          "data": {
            "image/png": "[encoded data removed]",
            "text/plain": [
              "<Figure size 432x288 with 1 Axes>"
            ]
          },
          "metadata": {
            "needs_background": "light"
          }
        }
      ]
    },
    {
      "cell_type": "code",
      "metadata": {
        "colab": {
          "base_uri": "https://localhost:8080/",
          "height": 350
        },
        "id": "moIjn3Kv-Hqy",
        "outputId": "4b1e3880-1576-4b63-b4d0-192704221a8d"
      },
      "source": [
        "#네번째 방법: from 모듈명 import 폴더명 or 함수명\n",
        "# -> 이 경우 이후 함수명을 불러올 때 모듈명을 같이 써주지 않아도 된다는 장점이 있음\n",
        "\n",
        "from matplotlib import pyplot\n",
        "pyplot.hist(n)"
      ],
      "execution_count": null,
      "outputs": [
        {
          "output_type": "execute_result",
          "data": {
            "text/plain": [
              "(array([ 3.,  4.,  9., 11., 26., 19., 16., 10.,  1.,  1.]),\n",
              " array([-2.51307585, -1.99199295, -1.47091005, -0.94982715, -0.42874425,\n",
              "         0.09233865,  0.61342155,  1.13450445,  1.65558734,  2.17667024,\n",
              "         2.69775314]),\n",
              " <a list of 10 Patch objects>)"
            ]
          },
          "metadata": {},
          "execution_count": 11
        },
        {
          "output_type": "display_data",
          "data": {
            "image/png": "[encoded data removed]",
            "text/plain": [
              "<Figure size 432x288 with 1 Axes>"
            ]
          },
          "metadata": {
            "needs_background": "light"
          }
        }
      ]
    },
    {
      "cell_type": "code",
      "metadata": {
        "colab": {
          "base_uri": "https://localhost:8080/",
          "height": 359
        },
        "id": "ORo259i7_Uqi",
        "outputId": "fcf4ee2f-2ae9-4779-9d39-1eb86d7126a0"
      },
      "source": [
        "#from 모듈명.폴더명 import 함수명\n",
        "#-> 함수명만 사용해도 된다는 장점이 있음\n",
        "\n",
        "from matplotlib.pyplot import hist\n",
        "hist(n)"
      ],
      "execution_count": 9,
      "outputs": [
        {
          "output_type": "execute_result",
          "data": {
            "text/plain": [
              "(array([ 5.,  5., 12., 17., 20., 17., 10.,  8.,  4.,  2.]),\n",
              " array([-2.20124126, -1.70885817, -1.21647507, -0.72409198, -0.23170889,\n",
              "         0.2606742 ,  0.75305729,  1.24544039,  1.73782348,  2.23020657,\n",
              "         2.72258966]),\n",
              " <a list of 10 Patch objects>)"
            ]
          },
          "metadata": {},
          "execution_count": 9
        },
        {
          "output_type": "display_data",
          "data": {
            "image/png": "[encoded data removed]",
            "text/plain": [
              "<Figure size 432x288 with 1 Axes>"
            ]
          },
          "metadata": {
            "needs_background": "light"
          }
        }
      ]
    }
  ]
}