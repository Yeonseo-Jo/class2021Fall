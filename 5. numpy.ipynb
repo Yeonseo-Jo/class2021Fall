{
  "nbformat": 4,
  "nbformat_minor": 0,
  "metadata": {
    "kernelspec": {
      "display_name": "Python 3",
      "language": "python",
      "name": "python3"
    },
    "language_info": {
      "codemirror_mode": {
        "name": "ipython",
        "version": 3
      },
      "file_extension": ".py",
      "mimetype": "text/x-python",
      "name": "python",
      "nbconvert_exporter": "python",
      "pygments_lexer": "ipython3",
      "version": "3.7.1"
    },
    "colab": {
      "name": "numpy.ipynb",
      "provenance": [],
      "include_colab_link": true
    }
  },
  "cells": [
    {
      "cell_type": "markdown",
      "metadata": {
        "id": "view-in-github",
        "colab_type": "text"
      },
      "source": [
        "<a href=\"https://colab.research.google.com/github/Yeonseo-Jo/class2021Fall/blob/main/5.%20numpy.ipynb\" target=\"_parent\"><img src=\"https://colab.research.google.com/assets/colab-badge.svg\" alt=\"Open In Colab\"/></a>"
      ]
    },
    {
      "cell_type": "markdown",
      "metadata": {
        "id": "JcCdLoe_4bY7"
      },
      "source": [
        "### create nd arrays (≈matrices)"
      ]
    },
    {
      "cell_type": "code",
      "source": [
        "#nd = n-dimensional = n차원 배열\n",
        "#array = matrix의 형태와 비슷한것."
      ],
      "metadata": {
        "id": "-OSRdQVmClze"
      },
      "execution_count": null,
      "outputs": []
    },
    {
      "cell_type": "code",
      "source": [
        "#nd = n-dimensional = n차원 배열\n",
        "  #행렬(matirces) = 2d(2 dimensional,2차원) = m by n\n",
        "  #벡터(vectors) = 1d(1 dimensional, 1차원) -> 한 줄 짜리\n",
        "  #행렬 그 이상의 차원(2차원 이상의 차원)도 있음 -> ex. 2 by 3 by 4 by 5,,, n => n dimensional array"
      ],
      "metadata": {
        "id": "ynQQo9yjEp09"
      },
      "execution_count": null,
      "outputs": []
    },
    {
      "cell_type": "code",
      "metadata": {
        "id": "5ap7xyofShBB"
      },
      "source": [
        "import numpy as np"
      ],
      "execution_count": 2,
      "outputs": []
    },
    {
      "cell_type": "code",
      "metadata": {
        "id": "2rqpSPZCShBC",
        "colab": {
          "base_uri": "https://localhost:8080/"
        },
        "outputId": "f541a19e-b8bf-4db8-805b-8f4abc92cbca"
      },
      "source": [
        "#array를 만드는 방법\n",
        "# 1.벡터 => ex. [1,2,3] => 1d array\n",
        "# 2.행렬 => ex. [[1,2,3],[4,5,6]] => 2d array\n",
        "\n",
        "x = np.array([1,2,3]) #array를 만들어주는 함수\n",
        "print(x)\n",
        "print(type(x))\n",
        "print(x.shape) #3개짜리 벡터라는 말.     #. shape => array의 크기를 알려줌.(몇차원인지 알 수 있음)"
      ],
      "execution_count": null,
      "outputs": [
        {
          "output_type": "stream",
          "name": "stdout",
          "text": [
            "[1 2 3]\n",
            "<class 'numpy.ndarray'>\n",
            "(3,)\n"
          ]
        }
      ]
    },
    {
      "cell_type": "code",
      "source": [
        "x=np.array([[1,2,3],[4,5,6]]) \n",
        "print(x)\n",
        "print(type(x)뜻\n",
        "print(x.shape) #2d array의 shape. / (2,3)의 의미는 *2-> 제일 큰 대괄호 안에 componenet가 2개 ,  *3 ->그 다음 안에 있는 대괄호에는 component가 3개 라는 뜻"
      ],
      "metadata": {
        "id": "ecoijF4gFuoJ",
        "outputId": "6881b2bf-73a6-458b-c80e-6103d9c070b8",
        "colab": {
          "base_uri": "https://localhost:8080/"
        }
      },
      "execution_count": null,
      "outputs": [
        {
          "output_type": "stream",
          "name": "stdout",
          "text": [
            "[[1 2 3]\n",
            " [4 5 6]]\n",
            "<class 'numpy.ndarray'>\n",
            "(2, 3)\n"
          ]
        }
      ]
    },
    {
      "cell_type": "code",
      "source": [
        "x=np.array([[[1,2,3],[4,5,6]],[[7,8,9],[10,11,12]]])\n",
        "print(x)\n",
        "print(type(x))\n",
        "print(x.shape)"
      ],
      "metadata": {
        "id": "SuWen7arGVLq",
        "outputId": "493e37de-7f46-4717-d487-662aeda3a82b",
        "colab": {
          "base_uri": "https://localhost:8080/"
        }
      },
      "execution_count": null,
      "outputs": [
        {
          "output_type": "stream",
          "name": "stdout",
          "text": [
            "[[[ 1  2  3]\n",
            "  [ 4  5  6]]\n",
            "\n",
            " [[ 7  8  9]\n",
            "  [10 11 12]]]\n",
            "<class 'numpy.ndarray'>\n",
            "(2, 2, 3)\n"
          ]
        }
      ]
    },
    {
      "cell_type": "markdown",
      "source": [
        "arange(), linspace()는 1차원의 array를 만들어주는 함수 / 소리를 만들 때 중요하게 쓰이는 함수임"
      ],
      "metadata": {
        "id": "T-q10iu1HKMv"
      }
    },
    {
      "cell_type": "code",
      "metadata": {
        "id": "EjC88C75ShBC",
        "colab": {
          "base_uri": "https://localhost:8080/"
        },
        "outputId": "2c72f55f-c3f9-4e6a-c26b-f3e209a295e3"
      },
      "source": [
        "x = np.arange(0,10,2) #ara임ge(): 하나의 범위를 만들어주는 함수 / 0부터 9까지의 2씩 건너 뛰어 array를 만들어 줌. \n",
        "print(x)\n",
        "print(type(x))\n",
        "print(x.shape) #1차원의 배열"
      ],
      "execution_count": null,
      "outputs": [
        {
          "output_type": "stream",
          "name": "stdout",
          "text": [
            "[0 2 4 6 8]\n",
            "<class 'numpy.ndarray'>\n",
            "(5,)\n"
          ]
        }
      ]
    },
    {
      "cell_type": "code",
      "metadata": {
        "id": "-MwkCEjTShBC",
        "colab": {
          "base_uri": "https://localhost:8080/"
        },
        "outputId": "11427674-886c-4f82-ca48-a1465f53223e"
      },
      "source": [
        "x = np.linspace(0,10,6) #linspace() = linear한 space / = 0에서 10까지 총 6개의 숫자를 등간격으로 쪼개서 만들어라 (처음 값 끝 값 모두 포함)\n",
        "print(x)\n",
        "print(type(x))\n",
        "print(x.shape) #1차원의 배열"
      ],
      "execution_count": null,
      "outputs": [
        {
          "output_type": "stream",
          "name": "stdout",
          "text": [
            "[ 0.  2.  4.  6.  8. 10.]\n",
            "<class 'numpy.ndarray'>\n",
            "(6,)\n"
          ]
        }
      ]
    },
    {
      "cell_type": "code",
      "metadata": {
        "id": "tjk79SQ27fNv",
        "colab": {
          "base_uri": "https://localhost:8080/"
        },
        "outputId": "3ff3368b-6bb1-4664-933e-8504613780b1"
      },
      "source": [
        "열x = np.array([[1,2,3], [4,5,6]])\n",
        "print(x)\n",
        "print(type(x))\n",
        "print(x.shape)  #2차원의 array"
      ],
      "execution_count": null,
      "outputs": [
        {
          "output_type": "stream",
          "name": "stdout",
          "text": [
            "[[1 2 3]\n",
            " [4 5 6]]\n",
            "<class 'numpy.ndarray'>\n",
            "(2, 3)\n"
          ]
        }
      ]
    },
    {
      "cell_type": "code",
      "metadata": {
        "id": "C1ogg6iZ7yir",
        "colab": {
          "base_uri": "https://localhost:8080/"
        },
        "outputId": "baf27f4e-10a7-40bb-82f4-bf470d8de90c"
      },
      "source": [
        "x = np.array([[[1,2,3], [4,5,6]], [[7,8,9], [10,11,12]]])\n",
        "print(x)\n",
        "print(type(x))\n",
        "print(x.shape) #3차원의 array (2개 2개 원소 3개)"
      ],
      "execution_count": null,
      "outputs": [
        {
          "output_type": "stream",
          "name": "stdout",
          "text": [
            "[[[ 1  2  3]\n",
            "  [ 4  5  6]]\n",
            "\n",
            " [[ 7  8  9]\n",
            "  [10 11 12]]]\n",
            "<class 'numpy.ndarray'>\n",
            "(2, 2, 3)\n"
          ]
        }
      ]
    },
    {
      "cell_type": "code",
      "metadata": {
        "id": "efgeNHtD8ZlT",
        "colab": {
          "base_uri": "https://localhost:8080/"
        },
        "outputId": "047fb9dd-8c90-4dbf-9f12-35123bed1052"
      },
      "source": [
        "x = np.ones([2, 2, 3])   #ones([2,2,3]): 2 by 2 by 3 array를 만들어라. / 그런데 다 1을 채워서 만들어라  \n",
        "print(x)\n",
        "print(type(x))\n",
        "print(x.shape) #3d array (모든 성분들은 다 1을 가짐.)"
      ],
      "execution_count": null,
      "outputs": [
        {
          "output_type": "stream",
          "name": "stdout",
          "text": [
            "[[[1. 1. 1.]\n",
            "  [1. 1. 1.]]\n",
            "\n",
            " [[1. 1. 1.]\n",
            "  [1. 1. 1.]]]\n",
            "<class 'numpy.ndarray'>\n",
            "(2, 2, 3)\n"
          ]
        }
      ]
    },
    {
      "cell_type": "code",
      "metadata": {
        "id": "b_F-ccY08zzl",
        "colab": {
          "base_uri": "https://localhost:8080/"
        },
        "outputId": "d56dd759-bbd1-48d5-d208-4a2084fe1cec"
      },
      "source": [
        "x = np.zeros([2, 2, 3]) #zeros([2,2,3]): 2 by 2 by 3 array를 모든 원소를 0으로 채워 만들어라\n",
        "print(x)\n",
        "print(type(x))\n",
        "print(x.shape)\n",
        "x.reshape(3,2,2) #3차원의 array"
      ],
      "execution_count": null,
      "outputs": [
        {
          "output_type": "stream",
          "name": "stdout",
          "text": [
            "[[[0. 0. 0.]\n",
            "  [0. 0. 0.]]\n",
            "\n",
            " [[0. 0. 0.]\n",
            "  [0. 0. 0.]]]\n",
            "<class 'numpy.ndarray'>\n",
            "(2, 2, 3)\n"
          ]
        },
        {
          "output_type": "execute_result",
          "data": {
            "text/plain": [
              "array([[[0., 0.],\n",
              "        [0., 0.]],\n",
              "\n",
              "       [[0., 0.],\n",
              "        [0., 0.]],\n",
              "\n",
              "       [[0., 0.],\n",
              "        [0., 0.]]])"
            ]
          },
          "metadata": {},
          "execution_count": 27
        }
      ]
    },
    {
      "cell_type": "markdown",
      "metadata": {
        "id": "0hQuDJ5g9gpE"
      },
      "source": [
        "### create random numbers"
      ]
    },
    {
      "cell_type": "code",
      "metadata": {
        "id": "QRatmkx79otL"
      },
      "source": [
        "import matplotlib.pyplot as plt"
      ],
      "execution_count": null,
      "outputs": []
    },
    {
      "cell_type": "code",
      "metadata": {
        "id": "z1oOAB6dShBD",
        "colab": {
          "base_uri": "https://localhost:8080/",
          "height": 825
        },
        "outputId": "bc6d9320-1bdf-4582-df39-3d1a27e09abd"
      },
      "source": [
        "x = np.random.normal(0, 1, 100) #.normal distribution을 radnom하게 만들어주는 함수 (np.random.radn과는 다름)\n",
        "#np.random.normal(평균값, 표준편차, 리스트 값(범위-여기서는 100개))\n",
        "print(x)\n",
        "plt.hist(x, bins=10) #hist(): 히스토그램 만드는 함수 / 적절하게 bins 사이즈를 조절해야 함\n",
        "\n",
        "\n",
        "#* e-01 = 10의 -1승  / e(10)의 거듭제곱으로 표현하는 이유는 숫자의 길이를 똑같이 맞춰주기 위함임. 아무리 큰 수, 작은 수여도 차지하는 숫자의 크기를 같게 하기 위해 사용"
      ],
      "execution_count": null,
      "outputs": [
        {
          "output_type": "stream",
          "name": "stdout",
          "text": [
            "[-7.40305709e-01  6.14160705e-01  4.34797083e-01  1.34055229e+00\n",
            " -7.26781320e-01  2.56253706e-01 -1.60240438e-01 -8.55553034e-01\n",
            "  4.83831567e-01 -4.91655615e-01  2.19402045e-01 -9.25419875e-01\n",
            "  1.67764842e+00 -1.61066029e-01 -6.99906997e-02 -1.76682919e-03\n",
            "  5.16215642e-01 -1.15601930e+00  2.34293336e+00  1.03795480e+00\n",
            "  1.42703564e+00  8.02239585e-02  1.74323645e+00 -7.68105420e-01\n",
            " -2.79398332e-01  1.98787676e+00  1.89141608e-01 -3.74397640e-01\n",
            "  1.17881347e+00  9.10365193e-01 -1.42488058e+00  6.82851091e-01\n",
            "  1.86556733e+00  1.24700482e-01 -1.18175057e+00 -4.44170048e-01\n",
            "  6.38399607e-01 -1.29362397e+00  1.16599632e+00  4.91013636e-01\n",
            "  7.88479133e-01 -1.62664254e+00  1.67953471e+00  4.42693815e-01\n",
            " -1.11205068e-01 -7.67058527e-01 -1.34349665e+00  1.33752051e+00\n",
            "  8.63882653e-01  1.45014088e+00 -2.47515769e-01 -5.41526696e-01\n",
            "  5.06761123e-01  1.59341350e+00  4.17130868e-01  1.62212564e+00\n",
            "  1.16478923e+00 -3.44285091e-01 -3.44543975e+00 -3.16871545e-01\n",
            " -4.88421082e-01 -6.55943993e-01  4.41549587e-01 -7.32038898e-01\n",
            "  4.81383190e-01  7.81597492e-01 -2.12995678e+00  4.31446256e-01\n",
            " -2.23733482e-01  6.01492949e-01 -1.82074532e+00  8.87157771e-01\n",
            " -1.24875660e+00 -3.08094073e+00 -6.36050791e-01  2.86866605e-01\n",
            "  4.27348875e-01 -7.00990101e-01 -9.39245265e-01 -1.91038337e+00\n",
            " -6.64532627e-01 -3.32839553e-01 -1.57317860e+00  1.35553885e+00\n",
            "  1.18472090e+00  3.57344346e-01  8.72321215e-02  6.21169679e-01\n",
            " -1.10066058e+00 -8.59093238e-01 -2.01451865e+00  1.68191411e+00\n",
            " -1.10061362e+00  1.44606515e-01 -1.17078186e+00 -8.64193176e-01\n",
            "  4.88394997e-01 -7.93400195e-01 -6.01914995e-01 -2.52180351e-01]\n"
          ]
        },
        {
          "output_type": "execute_result",
          "data": {
            "text/plain": [
              "(array([ 2.,  0.,  4.,  9., 18., 17., 22., 14., 11.,  3.]),\n",
              " array([-3.44543975, -2.86660244, -2.28776513, -1.70892782, -1.13009051,\n",
              "        -0.55125319,  0.02758412,  0.60642143,  1.18525874,  1.76409605,\n",
              "         2.34293336]),\n",
              " <a list of 10 Patch objects>)"
            ]
          },
          "metadata": {},
          "execution_count": 12
        },
        {
          "output_type": "display_data",
          "data": {
            "image/png": "[encoded data removed]",
            "text/plain": [
              "<Figure size 432x288 with 1 Axes>"
            ]
          },
          "metadata": {
            "needs_background": "light"
          }
        }
      ]
    },
    {
      "cell_type": "markdown",
      "source": [
        "![image.png](data:image/png;base64,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)"
      ],
      "metadata": {
        "id": "PciLNSnrZBTX"
      }
    },
    {
      "cell_type": "markdown",
      "metadata": {
        "id": "G0exvwBbShBE"
      },
      "source": [
        "### generate a sine curve"
      ]
    },
    {
      "cell_type": "code",
      "metadata": {
        "id": "HgQmRXzMShBE",
        "colab": {
          "base_uri": "https://localhost:8080/",
          "height": 314
        },
        "outputId": "a9d15ad1-69f3-41f2-f61f-004b0caf7a71"
      },
      "source": [
        "#np.linspace()를 이용해서 sine 곡선 만드는 방법\n",
        "#sin이라는 함수가 받는 값은 내부적으로 radian으로 정함.\n",
        "#밑 과정은 sin이라는 함수가 받는, radian 값을 만드는 과정\n",
        "\n",
        "#pi를 써줄 때도 그냥 pi를 쓰면 안되고 np.pi로 써줘야 error가 발생하지 않음\n",
        "#pi = 180도\n",
        "theta = np.linspace(0, 2*np.pi, 100) #0에서부터 2pi(360도)까지 등간격의 총 100개의 숫자를 만들어라\n",
        "s = np.sin(theta)  #np.sin(theta)-> theta의 sin함수 값 얻기 -> theta의 0부터 1까지의 값이 나올 것!\n",
        "#theta의 길이는 = print(theta.shpae)를 하면 알 수 있음 => 100개(linspace로 100r개의 array를 만들었으니까)\n",
        "plt.plot(theta, s, '.')     #plt.plo(x값,y값,(그려질 문자 모양과 색(exb.=검은색 점)-없어도 됨))\n",
        "plt.xlabel('angle (radian)') #x축의 이름을 지어주는 함수\n",
        "plt.ylabel('value') #y축의 이름을 지어주는 함수\n",
        "plt.title('my first sine curve') #차트의 이름을 지어주는 함수\n",
        "\n",
        "#theta => np.linspace()로 만든 각도 값이 100개가 들어가 있음.\n",
        "#s => np.sin()로 만든 theta 각도의 sin함수 값이 100개가 들어가 있음\n",
        "#theta와 s에 있는 100개의 값은 서로 서로 대응 되고 있음.\n",
        "#이를 pli.plot(theta,s,'.')을 통해 x, y로 plotting함.\n",
        "#지금 여기서 .(점)들의 개수는 100개\n"
      ],
      "execution_count": null,
      "outputs": [
        {
          "output_type": "execute_result",
          "data": {
            "text/plain": [
              "Text(0.5, 1.0, 'my first sine curve')"
            ]
          },
          "metadata": {},
          "execution_count": 15
        },
        {
          "output_type": "display_data",
          "data": {
            "image/png": "[encoded data removed]",
            "text/plain": [
              "<Figure size 432x288 with 1 Axes>"
            ]
          },
          "metadata": {
            "needs_background": "light"
          }
        }
      ]
    },
    {
      "cell_type": "markdown",
      "source": [
        "sine 곡선 만드는 방법\n",
        "\n",
        "1. numpy 모듈 필요 /\n",
        "2. linspace 함수로 theta의 값 만들기 / \n",
        "3. sin 함수로 theta의 sine 함수 값 만들기 /\n",
        "4. plot 함수로 첫번째 논항인 x축은 theta의 값으로, 두번째 논항인 y축은 sin의 값으로 차트 그리기 (세번째 논항은 그려질 문자에 대한 논항)"
      ],
      "metadata": {
        "id": "FsgMkALkLFFP"
      }
    },
    {
      "cell_type": "code",
      "metadata": {
        "id": "WTqXoomZBbBk",
        "colab": {
          "base_uri": "https://localhost:8080/",
          "height": 314
        },
        "outputId": "cec5b123-1fc5-41a1-b007-093c744ecde1"
      },
      "source": [
        "theta2 = np.linspace(0, 2*np.pi, 100) + np.pi/2   #0도부터 만든 theta2곡선에 np.pi/2(180/2=90도) 즉, 90도를 더해 줌 = 90도부터 시작 // 제일 큰 값은 2pi+pi/2\n",
        "s2 = np.sin(theta2)\n",
        "plt.plot(theta2, s2, 'b.')\n",
        "\n",
        "plt.xlabel('angle (radian)') \n",
        "plt.ylabel('value') \n",
        "plt.title('my first sine curve')"
      ],
      "execution_count": null,
      "outputs": [
        {
          "output_type": "execute_result",
          "data": {
            "text/plain": [
              "Text(0.5, 1.0, 'my first sine curve')"
            ]
          },
          "metadata": {},
          "execution_count": 17
        },
        {
          "output_type": "display_data",
          "data": {
            "image/png": "[encoded data removed]",
            "text/plain": [
              "<Figure size 432x288 with 1 Axes>"
            ]
          },
          "metadata": {
            "needs_background": "light"
          }
        }
      ]
    },
    {
      "cell_type": "code",
      "metadata": {
        "id": "TuH489v9BvQ7",
        "colab": {
          "base_uri": "https://localhost:8080/",
          "height": 176
        },
        "outputId": "04e407ba-d6c0-4624-aa04-5e2932e0d013"
      },
      "source": [
        "np.corrcoef(s,s2)"
      ],
      "execution_count": 4,
      "outputs": [
        {
          "output_type": "error",
          "ename": "NameError",
          "evalue": "ignored",
          "traceback": [
            "\u001b[0;31m---------------------------------------------------------------------------\u001b[0m",
            "\u001b[0;31mNameError\u001b[0m                                 Traceback (most recent call last)",
            "\u001b[0;32m<ipython-input-4-850bf59eb7d3>\u001b[0m in \u001b[0;36m<module>\u001b[0;34m()\u001b[0m\n\u001b[0;32m----> 1\u001b[0;31m \u001b[0mnp\u001b[0m\u001b[0;34m.\u001b[0m\u001b[0mcorrcoef\u001b[0m\u001b[0;34m(\u001b[0m\u001b[0ms\u001b[0m\u001b[0;34m,\u001b[0m\u001b[0ms2\u001b[0m\u001b[0;34m)\u001b[0m\u001b[0;34m\u001b[0m\u001b[0;34m\u001b[0m\u001b[0m\n\u001b[0m",
            "\u001b[0;31mNameError\u001b[0m: name 's' is not defined"
          ]
        }
      ]
    },
    {
      "cell_type": "markdown",
      "source": [
        "theta함수와(윗쪽) theta2함수(아랫쪽)의 각도 차이는 90도\n",
        "\n",
        "-> why? +np.pi/2(90도)를 해줬으므로\n",
        "\n",
        "=> 두 함수의 시작 점의 차이, 각도 차수를 \"phase difference\"라고 함.\n",
        "\n",
        "=> 즉, theta와 theta2 함수의 phase difference는 90도(np.pi/2)"
      ],
      "metadata": {
        "id": "8vjvSlQQMBhN"
      }
    },
    {
      "cell_type": "markdown",
      "source": [
        "선형대수 내용 부분 배울 때 inner product에서 \n",
        "\n",
        "각도(theta)가 0도가 되면 cos(theta)가 1, 즉 최댓값이 되고,\n",
        "\n",
        "theta가 90도가 되면 cos(theta)가 0, 즉 최소값이 된다고 배웠음\n",
        "\n",
        "*각도 0도 = cos similarity가 1 / 각도 90도 = cos similarity가 0\n",
        "\n",
        "또한 이 cos similarity는 correlation과 관련 있었음\n",
        "\n",
        "(지금 선형대수 슬라이드 마지막 두 슬라이드에 대한 코드를 만든것!)\n",
        "\n",
        "즉, 정리하자면 phase diffrence가 없으면 (inner product signal 슬라이드 첫번째 두번째 케이스) theta 값이 0으로 cos similarity가 1이 되고,\n",
        "\n",
        "(inner product signal 슬라이드 세번째 케이스처럼)\n",
        "phase difference가 있으면 theta 값이 90도로 cos similarity(=correlation)가 0이 됨.\n",
        "\n",
        "\n"
      ],
      "metadata": {
        "id": "HWmyuR0CMqvW"
      }
    },
    {
      "cell_type": "code",
      "source": [
        "#두 함수의 phase difference를 비교하는 법\n",
        "np.corrcoef(theta,theta2) #상관관계 계수, R값, 즉 cos(theta)값을 비교하는 함수"
      ],
      "metadata": {
        "id": "i7QwZS_nMpuw",
        "outputId": "7a7d22f0-cac5-4594-8945-6db3ffdcd5ff",
        "colab": {
          "base_uri": "https://localhost:8080/"
        }
      },
      "execution_count": null,
      "outputs": [
        {
          "output_type": "execute_result",
          "data": {
            "text/plain": [
              "array([[1., 1.],\n",
              "       [1., 1.]])"
            ]
          },
          "metadata": {},
          "execution_count": 20
        }
      ]
    },
    {
      "cell_type": "code",
      "source": [
        ""
      ],
      "metadata": {
        "id": "UXEpxPI0PEun"
      },
      "execution_count": 4,
      "outputs": []
    }
  ]
}